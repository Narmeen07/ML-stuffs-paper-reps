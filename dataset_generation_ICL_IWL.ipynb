{
  "nbformat": 4,
  "nbformat_minor": 0,
  "metadata": {
    "colab": {
      "provenance": []
    },
    "kernelspec": {
      "name": "python3",
      "display_name": "Python 3"
    },
    "language_info": {
      "name": "python"
    }
  },
  "cells": [
    {
      "cell_type": "code",
      "source": [
        "import numpy as np\n",
        "\n",
        "# Constants\n",
        "P = 15\n",
        "D = 10  # You can set this to an appropriate value\n",
        "N = 5   # You can set this to an appropriate value\n",
        "K = 3   # You can set this to an appropriate value\n",
        "L = 2   # You can set this to an appropriate value\n",
        "epsilon = 0.1\n",
        "\n",
        "# Function to sample D-dimensional vectors from a normal distribution\n",
        "def sample_mu():\n",
        "    return np.random.normal(0, 1/D, D)\n",
        "\n",
        "# Function to sample items using the given formula for x˜i\n",
        "def sample_item(mu, epsilon):\n",
        "    eta = np.random.normal(0, 1, D)\n",
        "    x_tilde = mu + epsilon * eta / np.sqrt(1 + epsilon**2)\n",
        "    return x_tilde\n",
        "\n",
        "# Generate Gaussian Mixture Model\n",
        "classes_mu = [sample_mu() for _ in range(K)]\n",
        "\n",
        "# Function to generate a training sequence\n",
        "def generate_sequence():\n",
        "    sequence = []\n",
        "    target_position = 2*N\n",
        "    target_class = np.random.randint(0, K)\n",
        "    class_list = [0] * ((2 * N) + 1)\n",
        "\n",
        "    class_list[0] = target_class\n",
        "    for i in range(N):\n",
        "      class_list[2*i] = (np.random.randint(0,K))\n",
        "\n",
        "    # Ensure each class is assigned to a unique label\n",
        "    class_labels = np.random.choice(range(L), K)\n",
        "    label_contents = [sample_mu() for _ in range(L)]  # Contents of the labels\n",
        "\n",
        "    for i in range(2*N):\n",
        "        is_item_position = i % 2 == 0\n",
        "        is_label_position = not is_item_position\n",
        "\n",
        "        if is_item_position:\n",
        "            item_xi = sample_item(classes_mu[class_list[i]], epsilon)\n",
        "            sequence.append(np.concatenate([np.eye(P)[i], item_xi]))\n",
        "        else:\n",
        "              # Use the selected labels\n",
        "            label_index = class_labels[class_list[i]]\n",
        "            label = label_contents[label_index]\n",
        "            sequence.append(np.concatenate([np.eye(P)[int(i)], label]))\n",
        "\n",
        "    target_item = sample_item(classes_mu[target_class], epsilon)\n",
        "    sequence.append(np.concatenate([np.eye(P)[int(target_position)], target_item]))\n",
        "    label_index = class_labels[target_class]\n",
        "    correct_label = label_contents[label_index]\n",
        "    return sequence, correct_label, target_class\n",
        "\n",
        "# Generate training dataset\n",
        "num_sequences = 1000  # You can set this to an appropriate value\n",
        "dataset = []\n",
        "\n",
        "for _ in range(num_sequences):\n",
        "    sequence, correct_label, target_class = generate_sequence()\n",
        "    dataset.append((sequence, correct_label, target_class))\n",
        "\n",
        "# Print an example sequence\n",
        "example_sequence,example_correct_label, example_target_class = dataset[0]\n",
        "print(\"Example Sequence:\")\n",
        "for i, pos_encoding_item in enumerate(example_sequence):\n",
        "    print(f\"Position {i}: {pos_encoding_item}\")\n",
        "print(\"Correct label\", example_correct_label)\n",
        "print(\"Target Class:\", example_target_class)\n"
      ],
      "metadata": {
        "colab": {
          "base_uri": "https://localhost:8080/"
        },
        "id": "bTnq8AalQOst",
        "outputId": "6cbea686-037e-4a03-8e92-00cb90cec515"
      },
      "execution_count": 35,
      "outputs": [
        {
          "output_type": "stream",
          "name": "stdout",
          "text": [
            "Example Sequence:\n",
            "Position 0: [ 1.          0.          0.          0.          0.          0.\n",
            "  0.          0.          0.          0.          0.          0.\n",
            "  0.          0.          0.         -0.22797864  0.10712151 -0.01286809\n",
            " -0.246122   -0.00425965 -0.01427579  0.06962517 -0.18549074 -0.06131528\n",
            "  0.14522681]\n",
            "Position 1: [ 0.          1.          0.          0.          0.          0.\n",
            "  0.          0.          0.          0.          0.          0.\n",
            "  0.          0.          0.          0.17805142 -0.01783496  0.14125632\n",
            " -0.02222502 -0.08435749  0.08617444  0.03138167  0.02682666 -0.10807492\n",
            " -0.02971255]\n",
            "Position 2: [ 0.          0.          1.          0.          0.          0.\n",
            "  0.          0.          0.          0.          0.          0.\n",
            "  0.          0.          0.          0.01021196  0.15218549 -0.09369412\n",
            " -0.17001145  0.02345362 -0.073257   -0.08662129 -0.2354042   0.0622107\n",
            " -0.02675362]\n",
            "Position 3: [ 0.          0.          0.          1.          0.          0.\n",
            "  0.          0.          0.          0.          0.          0.\n",
            "  0.          0.          0.          0.17805142 -0.01783496  0.14125632\n",
            " -0.02222502 -0.08435749  0.08617444  0.03138167  0.02682666 -0.10807492\n",
            " -0.02971255]\n",
            "Position 4: [ 0.          0.          0.          0.          1.          0.\n",
            "  0.          0.          0.          0.          0.          0.\n",
            "  0.          0.          0.          0.25314528  0.1418205   0.11929803\n",
            " -0.02020914 -0.09009142  0.03882803 -0.02026599  0.14120476  0.11283653\n",
            "  0.11067459]\n",
            "Position 5: [ 0.          0.          0.          0.          0.          1.\n",
            "  0.          0.          0.          0.          0.          0.\n",
            "  0.          0.          0.          0.17805142 -0.01783496  0.14125632\n",
            " -0.02222502 -0.08435749  0.08617444  0.03138167  0.02682666 -0.10807492\n",
            " -0.02971255]\n",
            "Position 6: [ 0.          0.          0.          0.          0.          0.\n",
            "  1.          0.          0.          0.          0.          0.\n",
            "  0.          0.          0.         -0.05809205 -0.21581437 -0.14496168\n",
            " -0.04700012  0.20976472 -0.13043262 -0.08180903 -0.21091612  0.19850543\n",
            "  0.05903315]\n",
            "Position 7: [ 0.          0.          0.          0.          0.          0.\n",
            "  0.          1.          0.          0.          0.          0.\n",
            "  0.          0.          0.          0.17805142 -0.01783496  0.14125632\n",
            " -0.02222502 -0.08435749  0.08617444  0.03138167  0.02682666 -0.10807492\n",
            " -0.02971255]\n",
            "Position 8: [ 0.          0.          0.          0.          0.          0.\n",
            "  0.          0.          1.          0.          0.          0.\n",
            "  0.          0.          0.         -0.07240283 -0.15486594 -0.00509884\n",
            "  0.13341568  0.03350693  0.05692687  0.07025106  0.07011728  0.02655737\n",
            "  0.23328298]\n",
            "Position 9: [ 0.          0.          0.          0.          0.          0.\n",
            "  0.          0.          0.          1.          0.          0.\n",
            "  0.          0.          0.          0.17805142 -0.01783496  0.14125632\n",
            " -0.02222502 -0.08435749  0.08617444  0.03138167  0.02682666 -0.10807492\n",
            " -0.02971255]\n",
            "Position 10: [ 0.          0.          0.          0.          0.          0.\n",
            "  0.          0.          0.          0.          1.          0.\n",
            "  0.          0.          0.          0.08943221  0.02428608  0.01781196\n",
            "  0.17182135  0.1313023   0.17371213 -0.0854116  -0.06806445  0.00642648\n",
            "  0.10048932]\n",
            "Correct label [ 0.17805142 -0.01783496  0.14125632 -0.02222502 -0.08435749  0.08617444\n",
            "  0.03138167  0.02682666 -0.10807492 -0.02971255]\n",
            "Target Class: 0\n"
          ]
        }
      ]
    },
    {
      "cell_type": "code",
      "source": [
        "#putting the data in the correct format\n",
        "import torch\n",
        "import torch.nn as nn\n",
        "import torch.optim as optim\n",
        "from torch.utils.data import DataLoader, TensorDataset\n",
        "import numpy as np\n",
        "\n",
        "# Convert sequences to a single NumPy array\n",
        "sequences_array = np.array([seq for seq, _, _ in dataset], dtype=np.float32)\n",
        "\n",
        "# Convert the NumPy array to a PyTorch tensor\n",
        "sequence_tensor = torch.tensor(sequences_array)\n",
        "\n",
        "# Similarly, convert correct labels and target classes to NumPy arrays\n",
        "correct_labels_array = np.array([label for _, label, _ in dataset], dtype=np.float32)\n",
        "correct_labels_tensor = torch.tensor(correct_labels_array)\n",
        "\n",
        "target_classes_array = np.array([target for _, _, target in dataset], dtype=np.float32)\n",
        "target_classes_tensor = torch.tensor(target_classes_array)\n",
        "\n",
        "# Define the dataset\n",
        "dataset = TensorDataset(sequence_tensor, correct_labels_tensor, target_classes_tensor)"
      ],
      "metadata": {
        "id": "cS2yVTAT20IX"
      },
      "execution_count": 36,
      "outputs": []
    },
    {
      "cell_type": "code",
      "source": [
        "#n_ctx by d_model = 11 by 25   (here d_model is 25 quite small)\n",
        "sequence = dataset[0][0]\n",
        "sequence.shape"
      ],
      "metadata": {
        "colab": {
          "base_uri": "https://localhost:8080/"
        },
        "id": "0Fent5A59vOU",
        "outputId": "01ffa8a5-d8c7-46c1-9f9c-26cfbdd855ef"
      },
      "execution_count": 51,
      "outputs": [
        {
          "output_type": "execute_result",
          "data": {
            "text/plain": [
              "torch.Size([11, 25])"
            ]
          },
          "metadata": {},
          "execution_count": 51
        }
      ]
    },
    {
      "cell_type": "markdown",
      "source": [
        "To do next:\n",
        "1) Calculate and test attention patterns\n",
        "2) classifier as per the paper\n",
        "3) pull the model together\n",
        "4) initialise and train the model"
      ],
      "metadata": {
        "id": "6yHjDThU_mDm"
      }
    }
  ]
}